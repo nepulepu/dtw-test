{
 "metadata": {
  "language_info": {
   "codemirror_mode": {
    "name": "ipython",
    "version": 3
   },
   "file_extension": ".py",
   "mimetype": "text/x-python",
   "name": "python",
   "nbconvert_exporter": "python",
   "pygments_lexer": "ipython3",
   "version": "3.9.2"
  },
  "orig_nbformat": 2,
  "kernelspec": {
   "name": "python392jvsc74a57bd0f078df78778b588d08149b5539ef383cb028e1c4fb402a8478791ceaaca8a52f",
   "display_name": "Python 3.9.2 64-bit"
  }
 },
 "nbformat": 4,
 "nbformat_minor": 2,
 "cells": [
  {
   "cell_type": "code",
   "execution_count": null,
   "metadata": {},
   "outputs": [],
   "source": [
    "from __future__ import print_function\n",
    "import numpy as np\n",
    "import matplotlib\n",
    "import matplotlib.pyplot as plt\n",
    "from math import isinf\n",
    "import librosa\n",
    "import librosa.display as disp\n",
    "import os\n",
    "from numpy import array, zeros, full, argmin, inf, ndim\n",
    "import math"
   ]
  },
  {
   "source": [
    "# Load Audio Recordings"
   ],
   "cell_type": "markdown",
   "metadata": {}
  },
  {
   "cell_type": "code",
   "execution_count": null,
   "metadata": {},
   "outputs": [],
   "source": [
    "audio=os.path.join(os.getcwd(),\"audio_file\")\n",
    "x_1, sr = librosa.load(os.path.join(audio,\"j&tmaaf.ogg\"),duration=60)\n",
    "plt.figure(figsize=(16, 4))\n",
    "disp.waveplot(x_1, sr)\n",
    "plt.title('target Version $X_1$')\n",
    "plt.tight_layout()\n",
    "\n",
    "x_2, fs = librosa.load(os.path.join(audio,\"j&t.ogg\"),duration=60)\n",
    "plt.figure(figsize=(16, 4))\n",
    "disp.waveplot(x_2, sr=fs)\n",
    "plt.title('check Version $X_2$')\n",
    "plt.tight_layout()"
   ]
  },
  {
   "source": [
    "# Extract Chroma Features"
   ],
   "cell_type": "markdown",
   "metadata": {}
  },
  {
   "cell_type": "code",
   "execution_count": null,
   "metadata": {},
   "outputs": [],
   "source": [
    "n_fft = 4410\n",
    "hop_size = 2205\n",
    "\n",
    "x_1_chroma = librosa.feature.chroma_stft(y=x_1, sr=fs, tuning=0, norm=2,\n",
    "                                         hop_length=hop_size, n_fft=n_fft)\n",
    "x_2_chroma = librosa.feature.chroma_stft(y=x_2, sr=fs, tuning=0, norm=2,\n",
    "                                         hop_length=hop_size, n_fft=n_fft)\n",
    "\n",
    "plt.figure(figsize=(16, 8))\n",
    "plt.subplot(2, 1, 1)\n",
    "plt.title('Chroma Representation of $X_1$')\n",
    "librosa.display.specshow(x_1_chroma, x_axis='time',\n",
    "                         y_axis='chroma', cmap='gray_r', hop_length=hop_size)\n",
    "plt.colorbar()\n",
    "plt.subplot(2, 1, 2)\n",
    "plt.title('Chroma Representation of $X_2$')\n",
    "librosa.display.specshow(x_2_chroma, x_axis='time',\n",
    "                         y_axis='chroma', cmap='gray_r', hop_length=hop_size)\n",
    "plt.colorbar()\n",
    "plt.tight_layout()"
   ]
  },
  {
   "cell_type": "code",
   "execution_count": null,
   "metadata": {},
   "outputs": [],
   "source": [
    "def dtw(array1, array2):\n",
    "    len1 = len(array1)\n",
    "    len2 = len(array2)\n",
    "    dtw_matrix = np.zeros((len1+1,len2+1))\n",
    "    \n",
    "    for i in range(len1+1):\n",
    "        for j in range(len2+1):\n",
    "            dtw_matrix[i, j] = np.inf\n",
    "    dtw_matrix[0,0] = 0\n",
    "    \n",
    "    for i in range(1, len1+1):\n",
    "        for j in range(1, len2+1):\n",
    "            cost = abs(array1[i-1] - array2[j-1])\n",
    "            \n",
    "            last_min = np.min([dtw_matrix[i-1,j], dtw_matrix[i,j-1],dtw_matrix[i-1, j-1]])\n",
    "            dtw_matrix[i, j] = cost + last_min\n",
    "            print(dtw_matrix[i,j])\n",
    "    return dtw_matrix\n",
    "\n",
    "def dtw2(x, y, dist, warp=1, w=inf, s=1.0):\n",
    "    assert len(x)\n",
    "    assert len(y)\n",
    "    assert isinf(w) or (w >= abs(len(x) - len(y)))\n",
    "    assert s > 0\n",
    "    r, c = len(x), len(y)\n",
    "    if not isinf(w):\n",
    "        D0 = full((r + 1, c + 1), inf)\n",
    "        for i in range(1, r + 1):\n",
    "            D0[i, max(1, i - w):min(c + 1, i + w + 1)] = 0\n",
    "        D0[0, 0] = 0\n",
    "    else:\n",
    "        D0 = zeros((r + 1, c + 1))\n",
    "        D0[0, 1:] = inf\n",
    "        D0[1:, 0] = inf\n",
    "    D1 = D0[1:, 1:]  # view\n",
    "    for i in range(r):\n",
    "        for j in range(c):\n",
    "            if (isinf(w) or (max(0, i - w) <= j <= min(c, i + w))):\n",
    "                # print(D1)\n",
    "                # print(math.dist(x[i], y[j]))\n",
    "                D1[i, j] = math.dist(x[i], y[j])\n",
    "    C = D1.copy()\n",
    "    jrange = range(c)\n",
    "    for i in range(r):\n",
    "        if not isinf(w):\n",
    "            jrange = range(max(0, i - w), min(c, i + w + 1))\n",
    "        for j in jrange:\n",
    "            min_list = [D0[i, j]]\n",
    "            for k in range(1, warp + 1):\n",
    "                i_k = min(i + k, r)\n",
    "                j_k = min(j + k, c)\n",
    "                min_list += [D0[i_k, j] * s, D0[i, j_k] * s]\n",
    "            print(D1)\n",
    "            D1[i, j] += min(min_list)\n",
    "    if len(x) == 1:\n",
    "        path = zeros(len(y)), range(len(y))\n",
    "    elif len(y) == 1:\n",
    "        path = range(len(x)), zeros(len(x))\n",
    "    else:\n",
    "        path = _traceback(D0)\n",
    "    return D1[-1, -1], C, D1, path\n",
    "\n",
    "def _traceback(D):\n",
    "    i, j = array(D.shape) - 2\n",
    "    p, q = [i], [j]\n",
    "    while (i > 0) or (j > 0):\n",
    "        tb = argmin((D[i, j], D[i, j + 1], D[i + 1, j]))\n",
    "        if tb == 0:\n",
    "            i -= 1\n",
    "            j -= 1\n",
    "        elif tb == 1:\n",
    "            i -= 1\n",
    "        else:  # (tb == 2):\n",
    "            j -= 1\n",
    "        p.insert(0, i)\n",
    "        q.insert(0, j)\n",
    "    return array(p), array(q)"
   ]
  },
  {
   "cell_type": "code",
   "execution_count": null,
   "metadata": {},
   "outputs": [],
   "source": [
    "for i in range(len(x_2_chroma)):\n",
    "    while(len(x_2_chroma[i])<len(x_1_chroma[i])):\n",
    "        np.append(x_2_chroma[i],x_2_chroma[i])\n",
    "    print(len(x_2_chroma))"
   ]
  },
  {
   "cell_type": "code",
   "execution_count": null,
   "metadata": {
    "tags": []
   },
   "outputs": [],
   "source": [
    "# print(x_1_chroma[1])\n",
    "manhattan_distance = np.abs(x_1_chroma - x_2_chroma)\n",
    "d, cost_matrix, acc_cost_matrix, path =dtw2(x_1_chroma,x_2_chroma,dist=manhattan_distance)\n",
    "plt.imshow(acc_cost_matrix.T, origin='lower', cmap='gray', interpolation='nearest')\n",
    "plt.plot(path[0], path[1], 'w')\n",
    "plt.show()"
   ]
  },
  {
   "source": [
    "# Align Chroma Sequences"
   ],
   "cell_type": "markdown",
   "metadata": {}
  },
  {
   "cell_type": "code",
   "execution_count": null,
   "metadata": {},
   "outputs": [],
   "source": [
    "D, wp = librosa.sequence.dtw(X=x_1_chroma, Y=x_2_chroma, metric='cosine')\n",
    "wp_s = np.asarray(wp) * hop_size / fs\n",
    "\n",
    "fig = plt.figure(figsize=(10, 10))\n",
    "ax = fig.add_subplot(111)\n",
    "librosa.display.specshow(D, x_axis='time', y_axis='time',\n",
    "                         cmap='gray_r', hop_length=hop_size)\n",
    "imax = ax.imshow(D, cmap=plt.get_cmap('gray_r'),\n",
    "                 origin='lower', interpolation='nearest', aspect='auto')\n",
    "ax.plot(wp_s[:, 1], wp_s[:, 0], marker='o', color='r')\n",
    "plt.title('Warping Path on Acc. Cost Matrix $D$')\n",
    "plt.colorbar()"
   ]
  },
  {
   "source": [
    "# Alternative Visualization in the Time Domain"
   ],
   "cell_type": "markdown",
   "metadata": {}
  },
  {
   "cell_type": "code",
   "execution_count": null,
   "metadata": {},
   "outputs": [],
   "source": [
    "fig = plt.figure(figsize=(16, 8))\n",
    "\n",
    "# Plot x_1\n",
    "plt.subplot(2, 1, 1)\n",
    "librosa.display.waveplot(x_1, sr=fs)\n",
    "plt.title('Slower Version $X_1$')\n",
    "ax1 = plt.gca()\n",
    "\n",
    "# Plot x_2\n",
    "plt.subplot(2, 1, 2)\n",
    "librosa.display.waveplot(x_2, sr=fs)\n",
    "plt.title('Slower Version $X_2$')\n",
    "ax2 = plt.gca()\n",
    "\n",
    "plt.tight_layout()\n",
    "\n",
    "trans_figure = fig.transFigure.inverted()\n",
    "lines = []\n",
    "arrows = 30\n",
    "points_idx = np.int16(np.round(np.linspace(0, wp.shape[0] - 1, arrows)))\n",
    "\n",
    "# for tp1, tp2 in zip((wp[points_idx, 0]) * hop_size, (wp[points_idx, 1]) * hop_size):\n",
    "for tp1, tp2 in wp[points_idx] * hop_size / fs:\n",
    "    # get position on axis for a given index-pair\n",
    "    coord1 = trans_figure.transform(ax1.transData.transform([tp1, 0]))\n",
    "    coord2 = trans_figure.transform(ax2.transData.transform([tp2, 0]))\n",
    "\n",
    "    # draw a line\n",
    "    line = matplotlib.lines.Line2D((coord1[0], coord2[0]),\n",
    "                                   (coord1[1], coord2[1]),\n",
    "                                   transform=fig.transFigure,\n",
    "                                   color='r')\n",
    "    lines.append(line)\n",
    "\n",
    "fig.lines = lines\n",
    "plt.tight_layout()"
   ]
  },
  {
   "cell_type": "code",
   "execution_count": null,
   "metadata": {},
   "outputs": [],
   "source": []
  }
 ]
}